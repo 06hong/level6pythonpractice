{
 "cells": [
  {
   "cell_type": "code",
   "execution_count": 8,
   "id": "f164ec2c-908d-4418-9ad5-ae7eda5ea06d",
   "metadata": {},
   "outputs": [
    {
     "name": "stdout",
     "output_type": "stream",
     "text": [
      "1\n",
      "2\n",
      "3\n",
      "4\n",
      "5\n"
     ]
    }
   ],
   "source": [
    "for i in range(1,6):\n",
    "    print (i)"
   ]
  },
  {
   "cell_type": "code",
   "execution_count": 53,
   "id": "c9583191-4ac0-4761-8179-0d3273785e3b",
   "metadata": {},
   "outputs": [
    {
     "data": {
      "text/plain": [
       "['  *  ', ' *** ', '*****']"
      ]
     },
     "execution_count": 53,
     "metadata": {},
     "output_type": "execute_result"
    }
   ],
   "source": [
    "#https://www.codewars.com/kata/576757b1df89ecf5bd00073b/train/python\n",
    "\n",
    "def tower_builder(n_floors):\n",
    "    # put in a number\n",
    "    # print out rows of stars that count up to the number\n",
    "    # 1 3 5 7 9\n",
    "    \n",
    "    #1 2 4 5 6\n",
    "    #1 3 5 7 9\n",
    "    #2*n - 1\n",
    "    \n",
    "\n",
    "    #total items must be n_floors*2-1\n",
    "    use_array=[]\n",
    "    for i in range(1,n_floors+1):\n",
    "        ast = ((2*i)-1)\n",
    "        num = int(((n_floors*2-1) - ast) /2) #spacing on the side\n",
    "        use_array.append( num*' ' + ast * '*' + num*' ') #append the 'i' number of stars\n",
    "       \n",
    "        \n",
    "    return use_array\n",
    "\n",
    "        \n",
    "tower_builder(3)"
   ]
  },
  {
   "cell_type": "code",
   "execution_count": 50,
   "id": "6f0011e8-a3a9-4668-9a35-97f578619d36",
   "metadata": {},
   "outputs": [
    {
     "name": "stdout",
     "output_type": "stream",
     "text": [
      "!!*!!\n"
     ]
    }
   ],
   "source": [
    "tmp = '!'*2 + '*' +'!'*2\n",
    "\n",
    "print(tmp)"
   ]
  },
  {
   "cell_type": "code",
   "execution_count": 68,
   "id": "3e8f4a1f-2733-4255-9ecf-eb7a0bdd9d56",
   "metadata": {},
   "outputs": [
    {
     "data": {
      "text/plain": [
       "'taxi'"
      ]
     },
     "execution_count": 68,
     "metadata": {},
     "output_type": "execute_result"
    }
   ],
   "source": [
    "#https://www.codewars.com/kata/57eb8fcdf670e99d9b000272/train/python\n",
    "#Given a string of words, you need to find the highest scoring word.\n",
    "\n",
    "#Each letter of a word scores points according to its position in the alphabet: a = 1, b = 2, c = 3 etc.\n",
    "\n",
    "#You need to return the highest scoring word as a string.\n",
    "\n",
    "#If two words score the same, return the word that appears earliest in the original string.\n",
    "\n",
    "#All letters will be lowercase and all inputs will be valid.\n",
    "\n",
    "def high(x):\n",
    "    \n",
    "    string_a='abcdefghijklmnopqrstuvwxyz'\n",
    "    list_a=x.split() \n",
    "    #now theres a list of words, see which word score the highest\n",
    "    ls = [0,0]  # [word, score]\n",
    "    for word in list_a: #for each word in list_a\n",
    "        #count the scores by using string_a index\n",
    "        scores = 0\n",
    "        for char in word.lower():\n",
    "            scores += string_a.index(char) + 1\n",
    "            #add all the scores up\n",
    "        if ls[1] < scores:\n",
    "            ls = [word, scores]\n",
    "    return ls[0]\n",
    "    #return the world with the highest number\n",
    "    \n",
    "    \n",
    "high('man i need a taxi up to ubud')\n",
    "        \n",
    "\n",
    "\n"
   ]
  },
  {
   "cell_type": "code",
   "execution_count": 8,
   "id": "0ee8db3a-931f-4c78-b883-c9cfd4912cd8",
   "metadata": {},
   "outputs": [
    {
     "data": {
      "text/plain": [
       "2"
      ]
     },
     "execution_count": 8,
     "metadata": {},
     "output_type": "execute_result"
    }
   ],
   "source": [
    "# Given a list of strings, count the number of palindromes that occur inside of the list (a palindrome is a word that is spelled the same backwards and forward).\n",
    "# Example 1\n",
    "# Input: solution([\"level\",\"noon\", \"putty\"])\n",
    "# Output: 2\n",
    "# Example 2\n",
    "# Input: solution([\"Tommy\", \"Trini\", \"Zack\"])\n",
    "# Output: 0\n",
    "\n",
    "def solution(listy):\n",
    "    counter= 0\n",
    "    #loop through the list, check if each word ends with that it begins with\n",
    "    for word in listy:\n",
    "        \n",
    "        if word == word[::-1]:\n",
    "            counter +=1\n",
    "    return counter\n",
    "\n",
    "\n",
    "solution([\"level\",\"noon\", \"puttp\"])\n",
    "    "
   ]
  },
  {
   "cell_type": "code",
   "execution_count": 10,
   "id": "80f70f1a-fecf-4f13-9649-5c79b44b1f9f",
   "metadata": {},
   "outputs": [
    {
     "data": {
      "text/plain": [
       "[0, 1]"
      ]
     },
     "execution_count": 10,
     "metadata": {},
     "output_type": "execute_result"
    }
   ],
   "source": [
    "# Given an array of integers nums and an integer target, return indices of the two numbers such that they add up to target.\n",
    "# You may assume that each input would have exactly one solution, and you may not use the same element twice.\n",
    "# You can return the answer in any order.\n",
    "# Input: nums = [2,7,11,15], target = 9\n",
    "# Output: [0,1]\n",
    "# Explained: Because nums[0] + nums[1] == 9, we return [0, 1].\n",
    "# Input: nums = [3,2,4], target = 6\n",
    "# Output: [1,2]\n",
    "\n",
    "def output(nums,target):\n",
    "    pointer1= 0\n",
    "    pointer2= 1\n",
    "    \n",
    "    \n",
    "    #loop through nums\n",
    "    for i in range(len(nums)):\n",
    "        \n",
    "        #find which 2 numbers adds up to the target\n",
    "        #if 2 pointers all add to the target\n",
    "        #if pointer1 + next pointer = target good\n",
    "        #if not pointer2 == next target \n",
    "        \n",
    "        for j in range(i+1,len(nums)):\n",
    "        \n",
    "           if nums[i] + nums[j] == target:\n",
    "                return [i, j]\n",
    "            \n",
    "                \n",
    "        \n",
    "        \n",
    "output([2,7,11,15], 9)      \n",
    "     #return the index of the 2 numbers\n",
    "    \n",
    "    "
   ]
  },
  {
   "cell_type": "code",
   "execution_count": null,
   "id": "0cdc8388-9a0b-4bd4-8352-6d40c1686d9d",
   "metadata": {},
   "outputs": [],
   "source": []
  }
 ],
 "metadata": {
  "kernelspec": {
   "display_name": "Python 3",
   "language": "python",
   "name": "python3"
  },
  "language_info": {
   "codemirror_mode": {
    "name": "ipython",
    "version": 3
   },
   "file_extension": ".py",
   "mimetype": "text/x-python",
   "name": "python",
   "nbconvert_exporter": "python",
   "pygments_lexer": "ipython3",
   "version": "3.8.8"
  }
 },
 "nbformat": 4,
 "nbformat_minor": 5
}
