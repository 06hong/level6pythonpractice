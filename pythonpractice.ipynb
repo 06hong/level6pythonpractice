{
 "cells": [
  {
   "cell_type": "code",
   "execution_count": 8,
   "id": "f164ec2c-908d-4418-9ad5-ae7eda5ea06d",
   "metadata": {},
   "outputs": [
    {
     "name": "stdout",
     "output_type": "stream",
     "text": [
      "1\n",
      "2\n",
      "3\n",
      "4\n",
      "5\n"
     ]
    }
   ],
   "source": [
    "for i in range(1,6):\n",
    "    print (i)"
   ]
  },
  {
   "cell_type": "code",
   "execution_count": 53,
   "id": "c9583191-4ac0-4761-8179-0d3273785e3b",
   "metadata": {},
   "outputs": [
    {
     "data": {
      "text/plain": [
       "['  *  ', ' *** ', '*****']"
      ]
     },
     "execution_count": 53,
     "metadata": {},
     "output_type": "execute_result"
    }
   ],
   "source": [
    "#https://www.codewars.com/kata/576757b1df89ecf5bd00073b/train/python\n",
    "\n",
    "def tower_builder(n_floors):\n",
    "    # put in a number\n",
    "    # print out rows of stars that count up to the number\n",
    "    # 1 3 5 7 9\n",
    "    \n",
    "    #1 2 4 5 6\n",
    "    #1 3 5 7 9\n",
    "    #2*n - 1\n",
    "    \n",
    "\n",
    "    #total items must be n_floors*2-1\n",
    "    use_array=[]\n",
    "    for i in range(1,n_floors+1):\n",
    "        ast = ((2*i)-1)\n",
    "        num = int(((n_floors*2-1) - ast) /2) #spacing on the side\n",
    "        use_array.append( num*' ' + ast * '*' + num*' ') #append the 'i' number of stars\n",
    "       \n",
    "        \n",
    "    return use_array\n",
    "\n",
    "        \n",
    "tower_builder(3)"
   ]
  },
  {
   "cell_type": "code",
   "execution_count": 50,
   "id": "6f0011e8-a3a9-4668-9a35-97f578619d36",
   "metadata": {},
   "outputs": [
    {
     "name": "stdout",
     "output_type": "stream",
     "text": [
      "!!*!!\n"
     ]
    }
   ],
   "source": [
    "tmp = '!'*2 + '*' +'!'*2\n",
    "\n",
    "print(tmp)"
   ]
  },
  {
   "cell_type": "code",
   "execution_count": 68,
   "id": "3e8f4a1f-2733-4255-9ecf-eb7a0bdd9d56",
   "metadata": {},
   "outputs": [
    {
     "data": {
      "text/plain": [
       "'taxi'"
      ]
     },
     "execution_count": 68,
     "metadata": {},
     "output_type": "execute_result"
    }
   ],
   "source": [
    "#https://www.codewars.com/kata/57eb8fcdf670e99d9b000272/train/python\n",
    "#Given a string of words, you need to find the highest scoring word.\n",
    "\n",
    "#Each letter of a word scores points according to its position in the alphabet: a = 1, b = 2, c = 3 etc.\n",
    "\n",
    "#You need to return the highest scoring word as a string.\n",
    "\n",
    "#If two words score the same, return the word that appears earliest in the original string.\n",
    "\n",
    "#All letters will be lowercase and all inputs will be valid.\n",
    "\n",
    "def high(x):\n",
    "    \n",
    "    string_a='abcdefghijklmnopqrstuvwxyz'\n",
    "    list_a=x.split() \n",
    "    #now theres a list of words, see which word score the highest\n",
    "    ls = [0,0]  # [word, score]\n",
    "    for word in list_a: #for each word in list_a\n",
    "        #count the scores by using string_a index\n",
    "        scores = 0\n",
    "        for char in word.lower():\n",
    "            scores += string_a.index(char) + 1\n",
    "            #add all the scores up\n",
    "        if ls[1] < scores:\n",
    "            ls = [word, scores]\n",
    "    return ls[0]\n",
    "    #return the world with the highest number\n",
    "    \n",
    "    \n",
    "high('man i need a taxi up to ubud')\n",
    "        \n",
    "\n",
    "\n"
   ]
  },
  {
   "cell_type": "code",
   "execution_count": null,
   "id": "0ee8db3a-931f-4c78-b883-c9cfd4912cd8",
   "metadata": {},
   "outputs": [],
   "source": []
  }
 ],
 "metadata": {
  "kernelspec": {
   "display_name": "Python 3",
   "language": "python",
   "name": "python3"
  },
  "language_info": {
   "codemirror_mode": {
    "name": "ipython",
    "version": 3
   },
   "file_extension": ".py",
   "mimetype": "text/x-python",
   "name": "python",
   "nbconvert_exporter": "python",
   "pygments_lexer": "ipython3",
   "version": "3.8.8"
  }
 },
 "nbformat": 4,
 "nbformat_minor": 5
}
